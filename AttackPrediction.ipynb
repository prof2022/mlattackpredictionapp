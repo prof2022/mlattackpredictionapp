{
 "cells": [
  {
   "cell_type": "code",
   "execution_count": 282,
   "id": "ba64f00c",
   "metadata": {},
   "outputs": [],
   "source": [
    "import pandas as pd\n",
    "import matplotlib.pyplot as plt\n",
    "df = pd.read_csv(r\"F:\\my awesome streamlit front end\\subAfricaDf.csv\")\n",
    "from sklearn.metrics import accuracy_score,confusion_matrix,classification_report\n",
    "from sklearn.model_selection import train_test_split\n",
    "from sklearn.ensemble import RandomForestClassifier\n",
    "import numpy as np\n",
    "import warnings\n",
    "warnings.filterwarnings(\"ignore\")"
   ]
  },
  {
   "cell_type": "code",
   "execution_count": 283,
   "id": "a26e5300",
   "metadata": {
    "scrolled": true
   },
   "outputs": [
    {
     "data": {
      "text/html": [
       "<div>\n",
       "<style scoped>\n",
       "    .dataframe tbody tr th:only-of-type {\n",
       "        vertical-align: middle;\n",
       "    }\n",
       "\n",
       "    .dataframe tbody tr th {\n",
       "        vertical-align: top;\n",
       "    }\n",
       "\n",
       "    .dataframe thead th {\n",
       "        text-align: right;\n",
       "    }\n",
       "</style>\n",
       "<table border=\"1\" class=\"dataframe\">\n",
       "  <thead>\n",
       "    <tr style=\"text-align: right;\">\n",
       "      <th></th>\n",
       "      <th>Year</th>\n",
       "      <th>Month</th>\n",
       "      <th>Day</th>\n",
       "      <th>Country</th>\n",
       "      <th>State</th>\n",
       "      <th>City</th>\n",
       "      <th>Region</th>\n",
       "      <th>Region_name</th>\n",
       "      <th>duration_of_incident</th>\n",
       "      <th>AttackType</th>\n",
       "      <th>...</th>\n",
       "      <th>Summary</th>\n",
       "      <th>Group</th>\n",
       "      <th>Latitude</th>\n",
       "      <th>Longitude</th>\n",
       "      <th>Target_type</th>\n",
       "      <th>Weapon_type</th>\n",
       "      <th>sub_weapon_type</th>\n",
       "      <th>Suicide</th>\n",
       "      <th>Casualities</th>\n",
       "      <th>Success</th>\n",
       "    </tr>\n",
       "  </thead>\n",
       "  <tbody>\n",
       "    <tr>\n",
       "      <th>0</th>\n",
       "      <td>1970</td>\n",
       "      <td>1</td>\n",
       "      <td>11</td>\n",
       "      <td>Ethiopia</td>\n",
       "      <td>Unknown</td>\n",
       "      <td>Unknown</td>\n",
       "      <td>11</td>\n",
       "      <td>Sub-Saharan Africa</td>\n",
       "      <td>0</td>\n",
       "      <td>Unknown</td>\n",
       "      <td>...</td>\n",
       "      <td>NaN</td>\n",
       "      <td>Eritrean Liberation Front</td>\n",
       "      <td>NaN</td>\n",
       "      <td>NaN</td>\n",
       "      <td>Military</td>\n",
       "      <td>Unknown</td>\n",
       "      <td>NaN</td>\n",
       "      <td>0</td>\n",
       "      <td>1.0</td>\n",
       "      <td>1</td>\n",
       "    </tr>\n",
       "    <tr>\n",
       "      <th>1</th>\n",
       "      <td>1970</td>\n",
       "      <td>3</td>\n",
       "      <td>14</td>\n",
       "      <td>Ethiopia</td>\n",
       "      <td>Unknown</td>\n",
       "      <td>Unknown</td>\n",
       "      <td>11</td>\n",
       "      <td>Sub-Saharan Africa</td>\n",
       "      <td>1</td>\n",
       "      <td>Hostage Taking (Kidnapping)</td>\n",
       "      <td>...</td>\n",
       "      <td>NaN</td>\n",
       "      <td>Eritrean Liberation Front</td>\n",
       "      <td>NaN</td>\n",
       "      <td>NaN</td>\n",
       "      <td>Journalists &amp; Media</td>\n",
       "      <td>Unknown</td>\n",
       "      <td>NaN</td>\n",
       "      <td>0</td>\n",
       "      <td>0.0</td>\n",
       "      <td>1</td>\n",
       "    </tr>\n",
       "    <tr>\n",
       "      <th>2</th>\n",
       "      <td>1970</td>\n",
       "      <td>4</td>\n",
       "      <td>0</td>\n",
       "      <td>Ethiopia</td>\n",
       "      <td>Unknown</td>\n",
       "      <td>Unknown</td>\n",
       "      <td>11</td>\n",
       "      <td>Sub-Saharan Africa</td>\n",
       "      <td>1</td>\n",
       "      <td>Hostage Taking (Kidnapping)</td>\n",
       "      <td>...</td>\n",
       "      <td>NaN</td>\n",
       "      <td>Eritrean Liberation Front</td>\n",
       "      <td>NaN</td>\n",
       "      <td>NaN</td>\n",
       "      <td>Government (Diplomatic)</td>\n",
       "      <td>Unknown</td>\n",
       "      <td>NaN</td>\n",
       "      <td>0</td>\n",
       "      <td>0.0</td>\n",
       "      <td>1</td>\n",
       "    </tr>\n",
       "    <tr>\n",
       "      <th>3</th>\n",
       "      <td>1971</td>\n",
       "      <td>1</td>\n",
       "      <td>15</td>\n",
       "      <td>Zambia</td>\n",
       "      <td>Unknown</td>\n",
       "      <td>Unknown</td>\n",
       "      <td>11</td>\n",
       "      <td>Sub-Saharan Africa</td>\n",
       "      <td>0</td>\n",
       "      <td>Hostage Taking (Kidnapping)</td>\n",
       "      <td>...</td>\n",
       "      <td>NaN</td>\n",
       "      <td>Revolutionary Committee of Mozambique (COREMO)</td>\n",
       "      <td>NaN</td>\n",
       "      <td>NaN</td>\n",
       "      <td>Government (General)</td>\n",
       "      <td>Unknown</td>\n",
       "      <td>NaN</td>\n",
       "      <td>0</td>\n",
       "      <td>1.0</td>\n",
       "      <td>1</td>\n",
       "    </tr>\n",
       "    <tr>\n",
       "      <th>4</th>\n",
       "      <td>1971</td>\n",
       "      <td>1</td>\n",
       "      <td>22</td>\n",
       "      <td>Ethiopia</td>\n",
       "      <td>Amhara</td>\n",
       "      <td>Bahar Dar</td>\n",
       "      <td>11</td>\n",
       "      <td>Sub-Saharan Africa</td>\n",
       "      <td>0</td>\n",
       "      <td>Hijacking</td>\n",
       "      <td>...</td>\n",
       "      <td>NaN</td>\n",
       "      <td>Eritrean Liberation Front</td>\n",
       "      <td>11.583513</td>\n",
       "      <td>37.397019</td>\n",
       "      <td>Airports &amp; Aircraft</td>\n",
       "      <td>Unknown</td>\n",
       "      <td>NaN</td>\n",
       "      <td>0</td>\n",
       "      <td>0.0</td>\n",
       "      <td>1</td>\n",
       "    </tr>\n",
       "  </tbody>\n",
       "</table>\n",
       "<p>5 rows × 23 columns</p>\n",
       "</div>"
      ],
      "text/plain": [
       "   Year  Month  Day   Country    State       City  Region         Region_name  \\\n",
       "0  1970      1   11  Ethiopia  Unknown    Unknown      11  Sub-Saharan Africa   \n",
       "1  1970      3   14  Ethiopia  Unknown    Unknown      11  Sub-Saharan Africa   \n",
       "2  1970      4    0  Ethiopia  Unknown    Unknown      11  Sub-Saharan Africa   \n",
       "3  1971      1   15    Zambia  Unknown    Unknown      11  Sub-Saharan Africa   \n",
       "4  1971      1   22  Ethiopia   Amhara  Bahar Dar      11  Sub-Saharan Africa   \n",
       "\n",
       "   duration_of_incident                   AttackType  ... Summary  \\\n",
       "0                     0                      Unknown  ...     NaN   \n",
       "1                     1  Hostage Taking (Kidnapping)  ...     NaN   \n",
       "2                     1  Hostage Taking (Kidnapping)  ...     NaN   \n",
       "3                     0  Hostage Taking (Kidnapping)  ...     NaN   \n",
       "4                     0                    Hijacking  ...     NaN   \n",
       "\n",
       "                                            Group   Latitude  Longitude  \\\n",
       "0                       Eritrean Liberation Front        NaN        NaN   \n",
       "1                       Eritrean Liberation Front        NaN        NaN   \n",
       "2                       Eritrean Liberation Front        NaN        NaN   \n",
       "3  Revolutionary Committee of Mozambique (COREMO)        NaN        NaN   \n",
       "4                       Eritrean Liberation Front  11.583513  37.397019   \n",
       "\n",
       "               Target_type  Weapon_type  sub_weapon_type Suicide Casualities  \\\n",
       "0                 Military      Unknown              NaN       0         1.0   \n",
       "1      Journalists & Media      Unknown              NaN       0         0.0   \n",
       "2  Government (Diplomatic)      Unknown              NaN       0         0.0   \n",
       "3     Government (General)      Unknown              NaN       0         1.0   \n",
       "4      Airports & Aircraft      Unknown              NaN       0         0.0   \n",
       "\n",
       "  Success  \n",
       "0       1  \n",
       "1       1  \n",
       "2       1  \n",
       "3       1  \n",
       "4       1  \n",
       "\n",
       "[5 rows x 23 columns]"
      ]
     },
     "execution_count": 283,
     "metadata": {},
     "output_type": "execute_result"
    }
   ],
   "source": [
    "df.head()"
   ]
  },
  {
   "cell_type": "code",
   "execution_count": 284,
   "id": "d9921b75",
   "metadata": {},
   "outputs": [
    {
     "data": {
      "text/html": [
       "<div>\n",
       "<style scoped>\n",
       "    .dataframe tbody tr th:only-of-type {\n",
       "        vertical-align: middle;\n",
       "    }\n",
       "\n",
       "    .dataframe tbody tr th {\n",
       "        vertical-align: top;\n",
       "    }\n",
       "\n",
       "    .dataframe thead th {\n",
       "        text-align: right;\n",
       "    }\n",
       "</style>\n",
       "<table border=\"1\" class=\"dataframe\">\n",
       "  <thead>\n",
       "    <tr style=\"text-align: right;\">\n",
       "      <th></th>\n",
       "      <th>Country</th>\n",
       "      <th>State</th>\n",
       "      <th>AttackType</th>\n",
       "      <th>Target_type</th>\n",
       "      <th>Group</th>\n",
       "      <th>Weapon_type</th>\n",
       "      <th>Suicide</th>\n",
       "      <th>Success</th>\n",
       "    </tr>\n",
       "  </thead>\n",
       "  <tbody>\n",
       "    <tr>\n",
       "      <th>0</th>\n",
       "      <td>Ethiopia</td>\n",
       "      <td>Unknown</td>\n",
       "      <td>Unknown</td>\n",
       "      <td>Military</td>\n",
       "      <td>Eritrean Liberation Front</td>\n",
       "      <td>Unknown</td>\n",
       "      <td>0</td>\n",
       "      <td>1</td>\n",
       "    </tr>\n",
       "    <tr>\n",
       "      <th>1</th>\n",
       "      <td>Ethiopia</td>\n",
       "      <td>Unknown</td>\n",
       "      <td>Hostage Taking (Kidnapping)</td>\n",
       "      <td>Journalists &amp; Media</td>\n",
       "      <td>Eritrean Liberation Front</td>\n",
       "      <td>Unknown</td>\n",
       "      <td>0</td>\n",
       "      <td>1</td>\n",
       "    </tr>\n",
       "    <tr>\n",
       "      <th>2</th>\n",
       "      <td>Ethiopia</td>\n",
       "      <td>Unknown</td>\n",
       "      <td>Hostage Taking (Kidnapping)</td>\n",
       "      <td>Government (Diplomatic)</td>\n",
       "      <td>Eritrean Liberation Front</td>\n",
       "      <td>Unknown</td>\n",
       "      <td>0</td>\n",
       "      <td>1</td>\n",
       "    </tr>\n",
       "    <tr>\n",
       "      <th>3</th>\n",
       "      <td>Zambia</td>\n",
       "      <td>Unknown</td>\n",
       "      <td>Hostage Taking (Kidnapping)</td>\n",
       "      <td>Government (General)</td>\n",
       "      <td>Revolutionary Committee of Mozambique (COREMO)</td>\n",
       "      <td>Unknown</td>\n",
       "      <td>0</td>\n",
       "      <td>1</td>\n",
       "    </tr>\n",
       "    <tr>\n",
       "      <th>4</th>\n",
       "      <td>Ethiopia</td>\n",
       "      <td>Amhara</td>\n",
       "      <td>Hijacking</td>\n",
       "      <td>Airports &amp; Aircraft</td>\n",
       "      <td>Eritrean Liberation Front</td>\n",
       "      <td>Unknown</td>\n",
       "      <td>0</td>\n",
       "      <td>1</td>\n",
       "    </tr>\n",
       "  </tbody>\n",
       "</table>\n",
       "</div>"
      ],
      "text/plain": [
       "    Country    State                   AttackType              Target_type  \\\n",
       "0  Ethiopia  Unknown                      Unknown                 Military   \n",
       "1  Ethiopia  Unknown  Hostage Taking (Kidnapping)      Journalists & Media   \n",
       "2  Ethiopia  Unknown  Hostage Taking (Kidnapping)  Government (Diplomatic)   \n",
       "3    Zambia  Unknown  Hostage Taking (Kidnapping)     Government (General)   \n",
       "4  Ethiopia   Amhara                    Hijacking      Airports & Aircraft   \n",
       "\n",
       "                                            Group Weapon_type  Suicide  \\\n",
       "0                       Eritrean Liberation Front     Unknown        0   \n",
       "1                       Eritrean Liberation Front     Unknown        0   \n",
       "2                       Eritrean Liberation Front     Unknown        0   \n",
       "3  Revolutionary Committee of Mozambique (COREMO)     Unknown        0   \n",
       "4                       Eritrean Liberation Front     Unknown        0   \n",
       "\n",
       "   Success  \n",
       "0        1  \n",
       "1        1  \n",
       "2        1  \n",
       "3        1  \n",
       "4        1  "
      ]
     },
     "execution_count": 284,
     "metadata": {},
     "output_type": "execute_result"
    }
   ],
   "source": [
    "df = df[[\"Country\", \"State\", \"AttackType\", \"Target_type\", \"Group\",\"Weapon_type\",\"Suicide\",\"Success\"]]\n",
    "df.head()"
   ]
  },
  {
   "cell_type": "code",
   "execution_count": 285,
   "id": "07fce09d",
   "metadata": {},
   "outputs": [
    {
     "name": "stdout",
     "output_type": "stream",
     "text": [
      "<class 'pandas.core.frame.DataFrame'>\n",
      "RangeIndex: 17550 entries, 0 to 17549\n",
      "Data columns (total 8 columns):\n",
      " #   Column       Non-Null Count  Dtype \n",
      "---  ------       --------------  ----- \n",
      " 0   Country      17550 non-null  object\n",
      " 1   State        17542 non-null  object\n",
      " 2   AttackType   17550 non-null  object\n",
      " 3   Target_type  17550 non-null  object\n",
      " 4   Group        17550 non-null  object\n",
      " 5   Weapon_type  17550 non-null  object\n",
      " 6   Suicide      17550 non-null  int64 \n",
      " 7   Success      17550 non-null  int64 \n",
      "dtypes: int64(2), object(6)\n",
      "memory usage: 1.1+ MB\n"
     ]
    }
   ],
   "source": [
    "df.info()"
   ]
  },
  {
   "cell_type": "code",
   "execution_count": 286,
   "id": "fafe5b43",
   "metadata": {},
   "outputs": [
    {
     "data": {
      "text/plain": [
       "Country        0\n",
       "State          0\n",
       "AttackType     0\n",
       "Target_type    0\n",
       "Group          0\n",
       "Weapon_type    0\n",
       "Suicide        0\n",
       "Success        0\n",
       "dtype: int64"
      ]
     },
     "execution_count": 286,
     "metadata": {},
     "output_type": "execute_result"
    }
   ],
   "source": [
    "df = df.dropna()\n",
    "df.isnull().sum()"
   ]
  },
  {
   "cell_type": "code",
   "execution_count": 287,
   "id": "3f15e312",
   "metadata": {},
   "outputs": [
    {
     "data": {
      "text/plain": [
       "Somalia                             4142\n",
       "Nigeria                             3907\n",
       "South Africa                        2016\n",
       "Sudan                                967\n",
       "Democratic Republic of the Congo     775\n",
       "Kenya                                683\n",
       "Burundi                              613\n",
       "Mali                                 566\n",
       "Angola                               499\n",
       "Uganda                               394\n",
       "Mozambique                           363\n",
       "Cameroon                             332\n",
       "Central African Republic             283\n",
       "South Sudan                          225\n",
       "Ethiopia                             190\n",
       "Rwanda                               159\n",
       "Namibia                              151\n",
       "Niger                                146\n",
       "Senegal                              118\n",
       "Zimbabwe                             101\n",
       "Sierra Leone                         101\n",
       "Chad                                  91\n",
       "Rhodesia                              83\n",
       "Ivory Coast                           74\n",
       "Zambia                                62\n",
       "Tanzania                              59\n",
       "Burkina Faso                          52\n",
       "Zaire                                 50\n",
       "Togo                                  48\n",
       "Republic of the Congo                 36\n",
       "Liberia                               34\n",
       "Lesotho                               29\n",
       "Madagascar                            27\n",
       "Guinea                                25\n",
       "Djibouti                              22\n",
       "Ghana                                 19\n",
       "Mauritania                            18\n",
       "Swaziland                             16\n",
       "Botswana                              10\n",
       "Eritrea                               10\n",
       "Guinea-Bissau                          9\n",
       "Gabon                                  8\n",
       "Benin                                  8\n",
       "Malawi                                 5\n",
       "Comoros                                5\n",
       "People's Republic of the Congo         4\n",
       "Gambia                                 3\n",
       "Seychelles                             2\n",
       "Equatorial Guinea                      2\n",
       "Name: Country, dtype: int64"
      ]
     },
     "execution_count": 287,
     "metadata": {},
     "output_type": "execute_result"
    }
   ],
   "source": [
    "df['Country'].value_counts()"
   ]
  },
  {
   "cell_type": "code",
   "execution_count": 288,
   "id": "6791f9cc",
   "metadata": {},
   "outputs": [],
   "source": [
    "def shorten_categories(categories, cutoff):\n",
    "    categorical_map = {}\n",
    "    for i in range(len(categories)):\n",
    "        if categories.values[i] >= cutoff:\n",
    "            categorical_map[categories.index[i]] = categories.index[i]\n",
    "        else:\n",
    "            categorical_map[categories.index[i]] = 'Other'\n",
    "    return categorical_map"
   ]
  },
  {
   "cell_type": "code",
   "execution_count": 289,
   "id": "9d746234",
   "metadata": {},
   "outputs": [
    {
     "data": {
      "text/plain": [
       "Somalia                             4142\n",
       "Nigeria                             3907\n",
       "South Africa                        2016\n",
       "Sudan                                967\n",
       "Democratic Republic of the Congo     775\n",
       "Kenya                                683\n",
       "Burundi                              613\n",
       "Mali                                 566\n",
       "Angola                               499\n",
       "Uganda                               394\n",
       "Mozambique                           363\n",
       "Other                                340\n",
       "Cameroon                             332\n",
       "Central African Republic             283\n",
       "South Sudan                          225\n",
       "Ethiopia                             190\n",
       "Rwanda                               159\n",
       "Namibia                              151\n",
       "Niger                                146\n",
       "Senegal                              118\n",
       "Zimbabwe                             101\n",
       "Sierra Leone                         101\n",
       "Chad                                  91\n",
       "Rhodesia                              83\n",
       "Ivory Coast                           74\n",
       "Zambia                                62\n",
       "Tanzania                              59\n",
       "Burkina Faso                          52\n",
       "Zaire                                 50\n",
       "Name: Country, dtype: int64"
      ]
     },
     "execution_count": 289,
     "metadata": {},
     "output_type": "execute_result"
    }
   ],
   "source": [
    "country_map = shorten_categories(df.Country.value_counts(), 50)\n",
    "df['Country'] = df['Country'].map(country_map)\n",
    "df.Country.value_counts()"
   ]
  },
  {
   "cell_type": "code",
   "execution_count": 290,
   "id": "42f0bd4c",
   "metadata": {},
   "outputs": [
    {
     "data": {
      "text/plain": [
       "Banaadir          1613\n",
       "Borno             1423\n",
       "Gauteng            862\n",
       "Lower Shebelle     579\n",
       "Unknown            539\n",
       "                  ... \n",
       "Asmara               1\n",
       "Ali Sabieh           1\n",
       "Cacheu               1\n",
       "Lacs                 1\n",
       "Western Lakes        1\n",
       "Name: State, Length: 464, dtype: int64"
      ]
     },
     "execution_count": 290,
     "metadata": {},
     "output_type": "execute_result"
    }
   ],
   "source": [
    "df.State.value_counts()"
   ]
  },
  {
   "cell_type": "code",
   "execution_count": 291,
   "id": "91aab67c",
   "metadata": {},
   "outputs": [
    {
     "data": {
      "text/plain": [
       "Other               5653\n",
       "Banaadir            1613\n",
       "Borno               1423\n",
       "Gauteng              862\n",
       "Lower Shebelle       579\n",
       "Unknown              539\n",
       "KwaZulu-Natal        513\n",
       "North Kivu           413\n",
       "Lower Juba           341\n",
       "Bay                  328\n",
       "North Darfur         300\n",
       "Bujumbura Mairie     276\n",
       "Hiiraan              272\n",
       "Extreme-North        255\n",
       "Yobe                 253\n",
       "Gedo                 246\n",
       "Benue                213\n",
       "Northern             212\n",
       "Adamawa              208\n",
       "South Darfur         203\n",
       "Western Cape         195\n",
       "Plateau              188\n",
       "Rivers               184\n",
       "Kaduna               169\n",
       "Delta                168\n",
       "Kano                 154\n",
       "Bari                 142\n",
       "Mudug                139\n",
       "Middle Shebelle      138\n",
       "Orientale            138\n",
       "Eastern Cape         133\n",
       "Kidal                132\n",
       "Central              130\n",
       "Gao                  129\n",
       "Timbuktu             127\n",
       "Galguduud            123\n",
       "Bayelsa              122\n",
       "North Eastern        111\n",
       "Bakool               110\n",
       "Mandera              108\n",
       "Name: State, dtype: int64"
      ]
     },
     "execution_count": 291,
     "metadata": {},
     "output_type": "execute_result"
    }
   ],
   "source": [
    "state_map = shorten_categories(df.State.value_counts(), 100)\n",
    "df['State'] = df['State'].map(state_map)\n",
    "df.State.value_counts()"
   ]
  },
  {
   "cell_type": "code",
   "execution_count": 292,
   "id": "2e65e39f",
   "metadata": {},
   "outputs": [
    {
     "data": {
      "text/plain": [
       "array(['Unknown', 'Hostage Taking (Kidnapping)', 'Hijacking',\n",
       "       'Assassination', 'Bombing/Explosion', 'Armed Assault',\n",
       "       'Facility/Infrastructure Attack',\n",
       "       'Hostage Taking (Barricade Incident)', 'Unarmed Assault'],\n",
       "      dtype=object)"
      ]
     },
     "execution_count": 292,
     "metadata": {},
     "output_type": "execute_result"
    }
   ],
   "source": [
    "df.AttackType.unique()"
   ]
  },
  {
   "cell_type": "code",
   "execution_count": 293,
   "id": "6a24b7b6",
   "metadata": {},
   "outputs": [
    {
     "data": {
      "text/plain": [
       "array(['Military', 'Journalists & Media', 'Government (Diplomatic)',\n",
       "       'Government (General)', 'Airports & Aircraft', 'Business',\n",
       "       'Private Citizens & Property', 'Transportation',\n",
       "       'Violent Political Party', 'Educational Institution', 'Police',\n",
       "       'Utilities', 'Religious Figures/Institutions', 'Tourists',\n",
       "       'Unknown', 'NGO', 'Telecommunication', 'Food or Water Supply',\n",
       "       'Maritime', 'Terrorists/Non-State Militia', 'Other'], dtype=object)"
      ]
     },
     "execution_count": 293,
     "metadata": {},
     "output_type": "execute_result"
    }
   ],
   "source": [
    "df.Target_type.unique()"
   ]
  },
  {
   "cell_type": "code",
   "execution_count": 294,
   "id": "37f8c4bf",
   "metadata": {},
   "outputs": [
    {
     "data": {
      "text/plain": [
       "array(['Eritrean Liberation Front',\n",
       "       'Revolutionary Committee of Mozambique (COREMO)',\n",
       "       'Black September', 'Unknown', 'Irish Republican Army (IRA)',\n",
       "       'National Liberation Front of Chad', 'Maskini Liberation Front',\n",
       "       'Front for the Liberation of the French Somali Coast',\n",
       "       \"People's Revolutionary Party (Tanzania)\",\n",
       "       \"South-West Africa People's Organization (SWAPO)\",\n",
       "       'Popular Front for the Liberation of Palestine (PFLP)',\n",
       "       'Coup plotters', 'Tigray Peoples Liberation Front (TPLF)',\n",
       "       'African National Congress (South Africa)',\n",
       "       'Front for the Liberation of the Enclave of Cabinda (FLEC)',\n",
       "       'Somali Guerrillas', 'Polisario Front',\n",
       "       'Soviet and Cuban-backed rebels/mercenaries', 'Afar rebels',\n",
       "       'Zimbabwe African Nationalist Union (ZANU)',\n",
       "       \"Zimbabwe African People's Union\", 'Zimbabwe Guerrillas',\n",
       "       \"Zimbabwe People's Army (ZIPA)\",\n",
       "       'National Union for the Total Independence of Angola (UNITA)',\n",
       "       'Zimbabwe Patriotic Front', 'Black Nationalists',\n",
       "       'Rhodesian guerillas', 'Save Uganda Movement',\n",
       "       'Mozambique National Resistance Movement (MNR)', 'Guerrillas',\n",
       "       'Lesotho Liberation Army (LLA)', 'Anti-Government Guerrillas',\n",
       "       'Pan Africanist Congress (PAC)', 'Armed Subversives',\n",
       "       'Popular Movement for the Liberation of Cabinda',\n",
       "       \"Ethiopian People's Revolutionary Party\", 'Urban Guerrillas',\n",
       "       'Mali students', 'Wit Kommando', 'Somali Salvation Front (SSF)',\n",
       "       'Uganda Freedom Movement (UFM)', 'Dissidents linked to Zanga',\n",
       "       'Anti-Government extremists', 'Popular Resistance Army (PRA)',\n",
       "       'Uganda National Liberation Front (UNLF)',\n",
       "       'South African Liberation Support Cadre (SALSC)', 'Libyan',\n",
       "       'Central African National Liberation Movement', 'Gang',\n",
       "       'Mercenaries', 'Left-Wing Terrorists',\n",
       "       'Congolese Armed Patriotic Group', 'Mozambican Rebels',\n",
       "       'Supporters of Joshua Nkomo', 'Insurgents',\n",
       "       'Somali Salvation Democratic Front (SSDF)',\n",
       "       'Liberation Front of Southern Sudan', 'Opposition Militants',\n",
       "       'Western Somalia Liberation Front', 'Separatists',\n",
       "       'Sudanese mostly Christian rebels', 'Christian extremists',\n",
       "       'National Resistance Movement (NRM)', 'Idriss Miskine Group',\n",
       "       'Congolese National Movement- Lumumba (MNCL)',\n",
       "       'Anti-Communist extremists', 'FACDM', 'Black extremists',\n",
       "       \"Uganda People's Army\", \"People's Liberation Front of Niger\",\n",
       "       'United Democratic Front (UDF)', 'Angolan Defense Force',\n",
       "       'Students', 'Right-Wing Group', 'Anti-Apartheid guerrillas',\n",
       "       'New Ugandan Army', 'Black September II',\n",
       "       \"Sudan People's Liberation Army (SPLA)\", 'Angola Rebels',\n",
       "       'Somali National Movement', 'Antonio',\n",
       "       'Inkatha Freedom Party (IFP)', \"Extremist Nat'list Group\",\n",
       "       'South African guerrillas', 'Uganda Federal Army',\n",
       "       \"Sudanese People's Liberation Forces\", 'Holy Spirit Movement',\n",
       "       'Mozambique Liberation Front (FRELIMO)',\n",
       "       'Congolese Liberation Party (PLC)', 'White Wolves',\n",
       "       'Anya-Nya II Militia', 'Afrikaner Resistance Movement (AWB)',\n",
       "       'Liberation Front of the Senegalese People',\n",
       "       'Movement of Democratic Forces of Casamance', 'Ugandan Rebels',\n",
       "       'Mandela Soccer Club', 'Eritrean Peoples Liberation Front',\n",
       "       'Mwakenya Dissident Movement', \"Ugandan People's Democratic Army\",\n",
       "       'Hezbollah', 'Popular Movement for the Liberation of Angola',\n",
       "       'Right-wing extremists', 'Rwenzururu Rebels',\n",
       "       'National Patriotic Front of Liberia (NPFL)',\n",
       "       'Liberian Rebel Group', 'Nazi Boerestat Party',\n",
       "       'Casamance Separatists', \"Azania People's Organization (AZAPO)\",\n",
       "       'White extremists', 'Islamic Legion', 'White Liberation Army',\n",
       "       'Civil Cooperation Bureau', 'United Somali Congress',\n",
       "       'Mozambique Rightest Rebels', 'Orde Boerevoik', 'Zulu Militants',\n",
       "       'Inkotanyi', 'Tuareg extremists', 'Katsina Muslim Society',\n",
       "       'Islamist extremists', 'Somali Patriotic Movement',\n",
       "       'Tuareg Guerrillas', 'Foibe tribe', 'Banya Tribe',\n",
       "       'Issa and Gurgura Liberation Front', 'Muslim Militants', 'Pirates',\n",
       "       'Anti-Government Demonstrators', 'Amhara tribal group',\n",
       "       'Former members Central Investigation Office', 'Tutsi extremists',\n",
       "       'Rebel Military Unit',\n",
       "       'Front for the Restoration of Unity and Democracy', 'Nandi Tribe',\n",
       "       'Supporters Opposition Leader Etienne Tshisekedi',\n",
       "       'Shia Muslim extremists', 'Muslim Youth',\n",
       "       \"Federation of Students and Scholars of Cote d'Ivoire (FESCI)\",\n",
       "       'Zaghawa ethnic group', \"God's Oppressed Army\",\n",
       "       'Forum for the Restoration of Democracy-Kenya',\n",
       "       'Ivorian Popular Front', 'Effiat ethnic roup or Jbibio Peoples',\n",
       "       'Air and Azawak Liberation Front', 'Rwanda Patriotic Front (RPF)',\n",
       "       'Hutu extremists', 'Muslims',\n",
       "       'United Liberation Movement for Democracy in Liberia (ULIMO)',\n",
       "       'Militant Movement for Madagascan Socialism (MMSM)', 'Baya Tribe',\n",
       "       'Party for the Liberation of the Hutu People (PALIPEHUTU)',\n",
       "       'Sabaot tribesmen', 'Oromo Liberation Front', 'Sabaot Tribe',\n",
       "       'Anti-government rioters',\n",
       "       'National Republican Movement for Democracy and Development (MRND)',\n",
       "       'Youth for Revolution', 'Anti-Government Group',\n",
       "       'National Democratic Front of Liberia', 'Katap Ethic Group',\n",
       "       'Hauso Ethnic Group', 'Igbo tribal group',\n",
       "       'Islamic Party of Kenya (IPK)', 'Aidid Militia',\n",
       "       'Black Malian Group', 'Togolese Peoples Rally',\n",
       "       'Committee for a National Drive for Peace and Democracy',\n",
       "       'Front for the Liberation of Cabinda / Cabinda Armed Forces (FLEC-FAC)',\n",
       "       'Somali Gang', 'Dissident Military Mmbrs of Northern Tribal Group',\n",
       "       'Bandits', 'War Veterans', 'Somali National Alliance',\n",
       "       'Dioulas tribal group', 'Farighan', 'Young Pioneers',\n",
       "       'Kenya African National Union (KANU)',\n",
       "       'Gunmen loyal to Mohammad Farah Aideed', 'Boer Republikeinse Leer',\n",
       "       'New Patriotic Party (NPP)', 'Toposa and Dongiro Tribes',\n",
       "       'Al-Ittihaad al-Islami (AIAI)', 'Xhosa Tribal Workers',\n",
       "       'Kotoko Tribal Group', 'Togolese Dissidents',\n",
       "       'Revolutionary United Front (RUF)', 'Mousa Ismail sub-clan',\n",
       "       'Rival Zulu Group, name not stated',\n",
       "       'Uganda Democratic Christian Army (UDCA)', 'Manatari Brotherhood',\n",
       "       'Ningo Tribe', 'Habr Gedir Clan',\n",
       "       'Association of Students and Pupils in Mali (AEEM)', 'Zulu Miners',\n",
       "       'Popular Front for the Liberation of the Sahara',\n",
       "       'Islamic Arab Front of Azawad (FIAA)', 'Ganda Koi',\n",
       "       'Council for Popular Justice', \"Lord's Resistance Army (LRA)\",\n",
       "       'Muslim Fundamentalists', 'Rebels', 'U/I Somali Militiamen',\n",
       "       'Presidential Movement (MP) Militiamen', 'U/I Liberian Gunmen',\n",
       "       'Taxi Drivers', 'Black African Vigilantes', 'Islamist Sufi Group',\n",
       "       'Malitia-Pro Govt', 'Shanty Dwellers',\n",
       "       'Democratic Front for Renewal (FDR)', 'Kenyan rebels from Uganda',\n",
       "       'Nomadic AFARS', 'Movement for Democracy and Development (MDD)',\n",
       "       'National Democratic Alliance (NDA)', 'Zairian Dissidents',\n",
       "       'Hutus Former Soldiers', 'Liberia Peace Council', 'Boer Sentries',\n",
       "       'Tribal Clash', \"Al-Gama'at al-Islamiyya (IG)\",\n",
       "       'Armed Forces for a Federal Republic (FARF)', 'Militia Members',\n",
       "       'Tribal Group', 'Armed People',\n",
       "       \"United Front for Nigeria's Liberation (UFNL)\", 'U/I Liberians',\n",
       "       'Sudan Alliance Forces', 'Gun runners', 'Black Mambas',\n",
       "       'Unidentified Infiltrators', 'West Nile Bank Front (WNBF)',\n",
       "       'Iraqi extremists', 'Beja Congress', 'Ethiopian Dongiro tribesmen',\n",
       "       'National Council for Defense of Democracy (NCDD)',\n",
       "       'Uganda Federal Democratic Alliance (UFEDA)',\n",
       "       'Boere Aanvals Troepe (BAT)', 'Allied Democratic Forces (ADF)',\n",
       "       'Protesters', 'Rahanwein Resistance Army (RRA)',\n",
       "       'Modakeke Ethnics', 'Majerten clansmen', 'Rival clan',\n",
       "       'Convention of Liberal Reformers (CLR)', \"Sa'ad Militia\",\n",
       "       'Saharan Revolutionary Armed Front (FARS)', 'Kamajor Hunters',\n",
       "       'Modakeke Ethnic Activists', 'Al-Sunni muslim sect',\n",
       "       'Kisii Activists', 'Maasai', 'National Development Party (NDP)',\n",
       "       'Union of Democratic Forces', 'Supporters of Ali Mahdi Mohammed',\n",
       "       'Al-Qaida', 'Banyamulenge rebels',\n",
       "       'Muslims Against Global Oppression (MAGO)',\n",
       "       'Congolese Democratic Coalition', 'Tigers',\n",
       "       'Armed Forces Revolutionary Council (AFRC)', 'Matan Abdulle',\n",
       "       'People Against Gangsterism and Drugs (PAGAD)',\n",
       "       'The Front for the Liberation of the Cabinda Enclave - Renewed (FLEC)',\n",
       "       'National Democratic Alliance of Sudan',\n",
       "       'Association of Mobil Spill Affected Communities (AMSAC)',\n",
       "       'National Army for the Liberation of Uganda (NALU)',\n",
       "       'Supporters of Ernest Wamba dia Wamba', 'Ninjas',\n",
       "       'Ijaw extremists',\n",
       "       'Movement for Democracy and Justice in Chad (MDJT)',\n",
       "       'Supporters of Pascal Lissouba', 'Ummah Liberation Army',\n",
       "       'Supporters of Johnny Paul Koroma', 'Egbesu Youths of the Bayelsa',\n",
       "       \"Odua Peoples' Congress (OPC)\", '28s', 'Borana bandits',\n",
       "       'Civil Defense Force (CDF)', 'West Side Boys', 'Gunmen',\n",
       "       'Mungiki Sect', 'Civil War Veterans',\n",
       "       'Takfir wal-Hijra (Excommunication and Exodus)',\n",
       "       'Allied Democratic Forces of Guinea (RDFG)',\n",
       "       'Civic United Front (CUF)', 'Marhan Clan',\n",
       "       'Forces for the Defense of Democracy (FDD)',\n",
       "       'Liberation War Veterans Association', 'Sudan Liberation Movement',\n",
       "       'Supporters of Muhammad Umar Habib',\n",
       "       'Supporters of Muse Sudi Yalahow',\n",
       "       'Liberians United for Reconciliation and Democracy (LURD)',\n",
       "       'Ethiopians', 'Mayi Mayi', 'Youths', 'Militants',\n",
       "       'Musa Sudi Yalahow Militia',\n",
       "       'Movement for the Actualization of the Sovereign State of Biafra (MASSOB)',\n",
       "       \"People's Democratic Party (PDP)\",\n",
       "       'National Youth Service of Zimbabwe', 'Karamojong Warriors',\n",
       "       \"Didier Ratsiraka's Militia\",\n",
       "       'Movement for Democratic Change (MDC)',\n",
       "       'Congolese Rally for Democracy (RCD)',\n",
       "       'Front for Peace and Reconciliation (FRP)', 'Fulani extremists',\n",
       "       'Pokot extremists', 'Strikers', 'Lendu extremists',\n",
       "       'Swaziland Youth Congress (Swayoco)', 'Egbema National Front',\n",
       "       'Union of Congolese Patriots (UPC)', 'Bini-Oru', 'Janjaweed',\n",
       "       'Itsekiri', 'Al-Sunna wal Jamma',\n",
       "       'Nationalist Integrationist Front (FNI)',\n",
       "       'Patriotic Resistance Front in Ituri (FRPI)',\n",
       "       'Sunni Muslim extremists', 'Rastas',\n",
       "       'Salafist Group for Preaching and Fighting (GSPC)',\n",
       "       'All Ethiopian Unity Party (AEUP)',\n",
       "       \"Niger Delta People's Volunteer Force (NDPVF)\",\n",
       "       'Islamic Courts Union (ICU)',\n",
       "       \"People's United Democratic Movement (PUDEMO)\",\n",
       "       'Coalition for Unity and Democracy (CUD)',\n",
       "       'Supporters of Laurent Nkunda',\n",
       "       'United Front for Democratic Change (FUC)',\n",
       "       'Movement for the Emancipation of the Niger Delta (MEND)',\n",
       "       'Gugama Youth Federation', 'Justice and Equality Movement (JEM)',\n",
       "       'Islamic Tendency', 'The Joint Revolutionary Council',\n",
       "       'Union of Forces for Democracy and Development (UFDD)',\n",
       "       'National Redemption Front', 'Rally of Democratic Forces (RAFD)',\n",
       "       'Niger Delta Vigilante (NDV)',\n",
       "       'Ogaden National Liberation Front (ONLF)', 'Bunda Dia Kongo (BDK)',\n",
       "       'Afar Revolutionary Democratic Unity Front',\n",
       "       'Democratic Front for the Liberation of Rwanda (FDLR)',\n",
       "       'Sabaot Land Defense Force (SLDF)',\n",
       "       'Mujahideen Youth Movement (MYM)',\n",
       "       'Popular Army for the Restoration of Democracy (APRD)',\n",
       "       'Movement of Niger People for Justice (MNJ)', 'Muslim extremists',\n",
       "       'Sungu Sungu', 'Union of Chadian Forces (UFNT)', 'Al-Shabaab',\n",
       "       'Democratic Movement for the Liberation of the Eritrean Kunamas (DMLEK)',\n",
       "       'Supporters of Sultan Abd-al-Bagi',\n",
       "       'National Liberation Front (FNL) (Burundi)',\n",
       "       'Somali Islamic Front',\n",
       "       'Red Sea Afar Democratic Organization (RSADO)',\n",
       "       'National Alliance (Chad)', 'Niger Delta Freedom Fighters (NDDF)',\n",
       "       \"Umbane People's Liberation Army (Swaziland)\",\n",
       "       'Hizbul al Islam (Somalia)',\n",
       "       'Al-Qaida in the Islamic Maghreb (AQIM)',\n",
       "       'Forces for the Unification of the Central African Republic (FIRCA)',\n",
       "       'National Congress for the Defense of the People (CNDP)',\n",
       "       'Ahlu-sunah Wal-jamea (Somalia)',\n",
       "       '23 May Democratic Alliance (Algeria)',\n",
       "       'Congolese Patriotic Resistence-Patriotic Armed Forces (Pareco/FAP)',\n",
       "       'Salafi Extremists', 'Popular Front for Justice in the Congo',\n",
       "       'Kara clan', 'Boko Haram', 'Urhobo Revolutionary Army',\n",
       "       'Islamic Party (Somalia)', 'Freedom Eagles of Africa',\n",
       "       'Convention of Patriots for Justice and Peace', 'Merille Militia',\n",
       "       'Africa Marine Commando', 'Enyele Militia',\n",
       "       \"People's Democratic Struggle Movement\",\n",
       "       'Anti-United States extremists',\n",
       "       'Niger Delta Liberation Force (NDLF)-Nigeria',\n",
       "       'Delta Democratic Militia', 'Misseriya Arab Tribesmen',\n",
       "       'South Sudan Liberation Army (SSLA)',\n",
       "       \"Ansaru (Jama'atu Ansarul Muslimina Fi Biladis Sudan)\",\n",
       "       'National Front for the Revolution in Burundi (FRONABU-Tabara)',\n",
       "       'Liberation and Justice Movement (LJM)',\n",
       "       'Eritrean Salvation Front (ESF)', 'Shabelle Valley militia',\n",
       "       'Azawad National Liberation Movement (MNLA)',\n",
       "       \"Sudan People's Liberation Movement - North\",\n",
       "       'Sudan Liberation Army-Minni Minawi (SLA-MM)',\n",
       "       'Revolutionary Front',\n",
       "       'National Committee for the Restoration of Democracy and State (CNRDR)',\n",
       "       'Movement for Oneness and Jihad in West Africa (MUJAO)',\n",
       "       'Ansar al-Dine (Mali)', 'Sudanese Rebels',\n",
       "       'South Sudan Democratic Army', 'Mai Mai Simba Militia',\n",
       "       'Government Supporters', 'Gbagbo Loyalists',\n",
       "       'David Yau Yau Militia', 'Tribesmen',\n",
       "       'Mombasa Republican Council (MRC)', 'National Freedom Party',\n",
       "       'M23', 'Popular Front for Recovery (FPR)',\n",
       "       'Bedouin Movement (Sudan)', 'Muslim Renewal',\n",
       "       'Colonel Albert Kahasha Militia',\n",
       "       'Jumuiya ya Taasisi za Kiislam (Community of Muslim Organizations)',\n",
       "       'Sudan Revolutionary Front (SRF)',\n",
       "       'Civilian Joint Task Force (JTF)',\n",
       "       \"Defenders of the Nation's Sovereignty\", 'Ombatse Cult', 'Seleka',\n",
       "       'Anti-Balaka Militia', 'Abu Tira (Central Reserve Forces)',\n",
       "       \"Sudan People's Liberation Movement in Opposition (SPLM-IO)\",\n",
       "       'Tarok Militia', 'Mai Mai Bakata Katanga Militia',\n",
       "       \"Al-Mua'qi'oon Biddam Brigade (Those who Sign with Blood)\",\n",
       "       'The Association for Islamic Mobilisation and Propagation (UAMSHO)',\n",
       "       'Biafra Zionist Movement (BZM)', 'Raskamboni Movement',\n",
       "       'Tiv Militia', \"Ses'khona Peoples' Rights Movement\",\n",
       "       \"Sudanese People's Front\",\n",
       "       'Alliance of Patriots for a Free and Sovereign Congo (APCLS)',\n",
       "       'Democratic Front of the Central African People (FDPC)',\n",
       "       'Hamza Combat Group against Atheism and Heresy',\n",
       "       'Mabanese Defence Forces', 'Nduma Defense of Congo (NDC)',\n",
       "       'Economic Freedom Fighters', 'Arab Movement of Azawad (MAA)',\n",
       "       'Revolutionary Movement for National Salvation (REMNASA)',\n",
       "       'Self-Defense Group of Imghad Tuaregs and Allies (GATIA)',\n",
       "       'Murle Tribe', 'Urhobo Gbagbako', 'Macina Liberation Front (FLM)',\n",
       "       'Coordination of Azawad Movements (CMA)', 'Nyatura Militia',\n",
       "       'Group of the Fatima Church Attack',\n",
       "       'Awdal Regional Administration Army (ARAA)', 'Tepi Youth',\n",
       "       'South Sudan Armed Forces (SSAF)',\n",
       "       'Islamic State of Iraq and the Levant (ISIL)', 'Berom Militants',\n",
       "       'Islamic Movement (Nigeria)',\n",
       "       'Patriotic Ginbot 7 Movement for Unity and Democracy (PGMUD)',\n",
       "       'Raia Mutomboki Militia',\n",
       "       'Union of Patriots for the Defense of Innocents (UPDI)',\n",
       "       'Niger Delta Avengers (NDA)',\n",
       "       'Youth Movement for the Total Liberation of Azawad',\n",
       "       'Republican Forces of Burundi (FOREBU)',\n",
       "       'Mai Mai Karakara Militia', 'Jabha East Africa',\n",
       "       'Red Egbesu Water Lions', 'Niger Delta extremists',\n",
       "       'Concerned Militant Leaders (CML)',\n",
       "       'Islamic Movement for the Liberation of Raja', 'Red Scorpion',\n",
       "       'Mai Mai Manu Militia', 'Mai Mai Mazembe Militia',\n",
       "       'Niger Delta Justice Defense Group (NDJDG)',\n",
       "       'Niger Delta Greenland Justice Mandate (NDGJM)', 'Nuer White Army',\n",
       "       'Islamic State in the Greater Sahara (ISGS)',\n",
       "       'Kamwina Nsapu Militia',\n",
       "       'Return, Reclamation, Rehabilitation (3R)', 'Agwelek Forces',\n",
       "       'Abbala extremists', 'Union for Peace in Central Africa (UPC)',\n",
       "       'Popular Front for the Renaissance of the Central African Republic (FPRC)',\n",
       "       'Jihadi-inspired extremists', 'Ansar al-Islam (Burkina Faso)',\n",
       "       'Twa Militia', \"Benishangul Gumuz People's Liberation Movement\",\n",
       "       'Jamaat Nusrat al-Islam wal Muslimin (JNIM)',\n",
       "       'Council for Justice in Azawad', 'South Sudanese extremists',\n",
       "       'National Council for Revival and Democracy (CNRD)',\n",
       "       'Niger Delta Forest Army (NDFA)', 'Mai Mai Charles Militia',\n",
       "       'National Movement of Revolutionaries (MNR)',\n",
       "       'United Party for National Development (UPND)',\n",
       "       'Mai Mai Yakutumba Militia', 'Ambazonia Defense Forces (ADF)',\n",
       "       'Indigenous People of Biafra (IPOB)',\n",
       "       'Liberation Front for English-speaking Cameroon',\n",
       "       'Ansar al-Sunna (Mozambique)', 'Mai Mai Malaika Militia',\n",
       "       'Movement for the Restoration of the Independence of Southern Cameroons',\n",
       "       'Bachama extremists',\n",
       "       'High Council for the Unity of Azawad (HCUA)'], dtype=object)"
      ]
     },
     "execution_count": 294,
     "metadata": {},
     "output_type": "execute_result"
    }
   ],
   "source": [
    "df.Group.unique()"
   ]
  },
  {
   "cell_type": "code",
   "execution_count": 295,
   "id": "c0c67403",
   "metadata": {},
   "outputs": [
    {
     "data": {
      "text/plain": [
       "Unknown                                     6055\n",
       "Al-Shabaab                                  3288\n",
       "Boko Haram                                  2418\n",
       "African National Congress (South Africa)     606\n",
       "Fulani extremists                            511\n",
       "                                            ... \n",
       "Al-Gama'at al-Islamiyya (IG)                   1\n",
       "National Redemption Front                      1\n",
       "Rally of Democratic Forces (RAFD)              1\n",
       "Tribal Clash                                   1\n",
       "Rastas                                         1\n",
       "Name: Group, Length: 492, dtype: int64"
      ]
     },
     "execution_count": 295,
     "metadata": {},
     "output_type": "execute_result"
    }
   ],
   "source": [
    "df.Group.value_counts()"
   ]
  },
  {
   "cell_type": "code",
   "execution_count": 296,
   "id": "021b2416",
   "metadata": {},
   "outputs": [
    {
     "data": {
      "text/plain": [
       "Unknown                                                        6055\n",
       "Al-Shabaab                                                     3288\n",
       "Boko Haram                                                     2418\n",
       "Other                                                          1893\n",
       "African National Congress (South Africa)                        606\n",
       "Fulani extremists                                               511\n",
       "National Union for the Total Independence of Angola (UNITA)     432\n",
       "Lord's Resistance Army (LRA)                                    322\n",
       "Mozambique National Resistance Movement (MNR)                   311\n",
       "Allied Democratic Forces (ADF)                                  216\n",
       "Janjaweed                                                       213\n",
       "Hutu extremists                                                 167\n",
       "Sudan People's Liberation Movement in Opposition (SPLM-IO)      101\n",
       "Democratic Front for the Liberation of Rwanda (FDLR)             99\n",
       "Movement for the Emancipation of the Niger Delta (MEND)          87\n",
       "Muslim extremists                                                80\n",
       "Movement of Democratic Forces of Casamance                       79\n",
       "Al-Qaida in the Islamic Maghreb (AQIM)                           74\n",
       "Anti-Balaka Militia                                              72\n",
       "Mayi Mayi                                                        68\n",
       "Revolutionary United Front (RUF)                                 65\n",
       "South-West Africa People's Organization (SWAPO)                  63\n",
       "Sudan People's Liberation Movement - North                       59\n",
       "Jamaat Nusrat al-Islam wal Muslimin (JNIM)                       59\n",
       "Ansar al-Dine (Mali)                                             54\n",
       "Movement for Oneness and Jihad in West Africa (MUJAO)            50\n",
       "Inkatha Freedom Party (IFP)                                      50\n",
       "Niger Delta Avengers (NDA)                                       50\n",
       "Name: Group, dtype: int64"
      ]
     },
     "execution_count": 296,
     "metadata": {},
     "output_type": "execute_result"
    }
   ],
   "source": [
    "group_map = shorten_categories(df.Group.value_counts(), 50)\n",
    "df['Group'] = df['Group'].map(group_map)\n",
    "df.Group.value_counts()"
   ]
  },
  {
   "cell_type": "code",
   "execution_count": 297,
   "id": "53d7f7b8",
   "metadata": {},
   "outputs": [
    {
     "data": {
      "text/plain": [
       "array(['Other', 'Unknown',\n",
       "       \"South-West Africa People's Organization (SWAPO)\",\n",
       "       'African National Congress (South Africa)',\n",
       "       'National Union for the Total Independence of Angola (UNITA)',\n",
       "       'Mozambique National Resistance Movement (MNR)',\n",
       "       'Inkatha Freedom Party (IFP)',\n",
       "       'Movement of Democratic Forces of Casamance', 'Hutu extremists',\n",
       "       'Revolutionary United Front (RUF)', \"Lord's Resistance Army (LRA)\",\n",
       "       'Allied Democratic Forces (ADF)', 'Mayi Mayi', 'Fulani extremists',\n",
       "       'Janjaweed',\n",
       "       'Movement for the Emancipation of the Niger Delta (MEND)',\n",
       "       'Democratic Front for the Liberation of Rwanda (FDLR)',\n",
       "       'Muslim extremists', 'Al-Shabaab',\n",
       "       'Al-Qaida in the Islamic Maghreb (AQIM)', 'Boko Haram',\n",
       "       \"Sudan People's Liberation Movement - North\",\n",
       "       'Movement for Oneness and Jihad in West Africa (MUJAO)',\n",
       "       'Ansar al-Dine (Mali)', 'Anti-Balaka Militia',\n",
       "       \"Sudan People's Liberation Movement in Opposition (SPLM-IO)\",\n",
       "       'Niger Delta Avengers (NDA)',\n",
       "       'Jamaat Nusrat al-Islam wal Muslimin (JNIM)'], dtype=object)"
      ]
     },
     "execution_count": 297,
     "metadata": {},
     "output_type": "execute_result"
    }
   ],
   "source": [
    "df.Group.unique()"
   ]
  },
  {
   "cell_type": "code",
   "execution_count": 298,
   "id": "93c9dee7",
   "metadata": {},
   "outputs": [
    {
     "data": {
      "text/plain": [
       "array(['Unknown', 'Explosives', 'Firearms', 'Incendiary', 'Melee',\n",
       "       'Sabotage Equipment', 'Chemical', 'Other', 'Fake Weapons',\n",
       "       'Vehicle (not to include vehicle-borne explosives, i.e., car or truck bombs)',\n",
       "       'Biological'], dtype=object)"
      ]
     },
     "execution_count": 298,
     "metadata": {},
     "output_type": "execute_result"
    }
   ],
   "source": [
    "df.Weapon_type.unique()"
   ]
  },
  {
   "cell_type": "code",
   "execution_count": 299,
   "id": "43257118",
   "metadata": {},
   "outputs": [
    {
     "data": {
      "text/plain": [
       "Firearms                                                                       7495\n",
       "Explosives                                                                     6318\n",
       "Unknown                                                                        2368\n",
       "Incendiary                                                                      840\n",
       "Melee                                                                           478\n",
       "Other                                                                            19\n",
       "Chemical                                                                         12\n",
       "Sabotage Equipment                                                                7\n",
       "Biological                                                                        3\n",
       "Fake Weapons                                                                      1\n",
       "Vehicle (not to include vehicle-borne explosives, i.e., car or truck bombs)       1\n",
       "Name: Weapon_type, dtype: int64"
      ]
     },
     "execution_count": 299,
     "metadata": {},
     "output_type": "execute_result"
    }
   ],
   "source": [
    "df.Weapon_type.value_counts()"
   ]
  },
  {
   "cell_type": "code",
   "execution_count": 300,
   "id": "8e014936",
   "metadata": {},
   "outputs": [
    {
     "data": {
      "text/plain": [
       "Firearms      7495\n",
       "Explosives    6318\n",
       "Unknown       2368\n",
       "Incendiary     840\n",
       "Melee          478\n",
       "Other           43\n",
       "Name: Weapon_type, dtype: int64"
      ]
     },
     "execution_count": 300,
     "metadata": {},
     "output_type": "execute_result"
    }
   ],
   "source": [
    "weapon_map = shorten_categories(df.Weapon_type.value_counts(), 50)\n",
    "df['Weapon_type'] = df['Weapon_type'].map(weapon_map)\n",
    "df.Weapon_type.value_counts()"
   ]
  },
  {
   "cell_type": "code",
   "execution_count": 301,
   "id": "71568aec",
   "metadata": {},
   "outputs": [
    {
     "data": {
      "text/plain": [
       "array(['Unknown', 'Explosives', 'Firearms', 'Incendiary', 'Melee',\n",
       "       'Other'], dtype=object)"
      ]
     },
     "execution_count": 301,
     "metadata": {},
     "output_type": "execute_result"
    }
   ],
   "source": [
    "df.Weapon_type.unique()"
   ]
  },
  {
   "cell_type": "code",
   "execution_count": 302,
   "id": "d07bb2f6",
   "metadata": {},
   "outputs": [
    {
     "data": {
      "text/plain": [
       "array([0, 1], dtype=int64)"
      ]
     },
     "execution_count": 302,
     "metadata": {},
     "output_type": "execute_result"
    }
   ],
   "source": [
    "df.Suicide.unique()"
   ]
  },
  {
   "cell_type": "code",
   "execution_count": 303,
   "id": "b2655f7e",
   "metadata": {},
   "outputs": [
    {
     "data": {
      "text/plain": [
       "array([1, 0], dtype=int64)"
      ]
     },
     "execution_count": 303,
     "metadata": {},
     "output_type": "execute_result"
    }
   ],
   "source": [
    "df.Success.unique()"
   ]
  },
  {
   "cell_type": "code",
   "execution_count": 304,
   "id": "fae2cd16",
   "metadata": {},
   "outputs": [
    {
     "data": {
      "text/plain": [
       "array([37, 32, 15,  2, 21, 11, 30,  9, 38, 18, 31, 14, 22, 36,  0, 19,  8,\n",
       "        3, 28, 17, 16,  4, 23, 12, 25,  5, 29, 35, 34, 13, 10,  1, 33,  7,\n",
       "       27, 20, 26,  6, 39, 24])"
      ]
     },
     "execution_count": 304,
     "metadata": {},
     "output_type": "execute_result"
    }
   ],
   "source": [
    "from sklearn.preprocessing import LabelEncoder\n",
    "le_state = LabelEncoder()\n",
    "df['State'] = le_state.fit_transform(df['State'])\n",
    "df[\"State\"].unique()\n",
    "#le.classes_"
   ]
  },
  {
   "cell_type": "code",
   "execution_count": 305,
   "id": "302cb32a",
   "metadata": {},
   "outputs": [
    {
     "data": {
      "text/plain": [
       "array([ 7, 27, 26, 15, 23,  5, 21,  9, 20, 24, 12, 14,  0, 16, 11, 25, 18,\n",
       "       28,  4,  1, 13, 10, 17, 19,  3,  2,  8,  6, 22])"
      ]
     },
     "execution_count": 305,
     "metadata": {},
     "output_type": "execute_result"
    }
   ],
   "source": [
    "le_country = LabelEncoder()\n",
    "df['Country'] = le_country.fit_transform(df['Country'])\n",
    "df[\"Country\"].unique()"
   ]
  },
  {
   "cell_type": "code",
   "execution_count": 306,
   "id": "14d26af8",
   "metadata": {},
   "outputs": [
    {
     "data": {
      "text/plain": [
       "array([22, 27, 24,  0, 20, 18, 10, 17,  9, 23, 13,  3, 14,  8, 12, 16,  7,\n",
       "       19,  2,  1,  6, 25, 15,  4,  5, 26, 21, 11])"
      ]
     },
     "execution_count": 306,
     "metadata": {},
     "output_type": "execute_result"
    }
   ],
   "source": [
    "le_group = LabelEncoder()\n",
    "df['Group'] = le_group.fit_transform(df['Group'])\n",
    "df[\"Group\"].unique()"
   ]
  },
  {
   "cell_type": "code",
   "execution_count": 307,
   "id": "b748d71c",
   "metadata": {},
   "outputs": [
    {
     "data": {
      "text/plain": [
       "array([5, 0, 1, 2, 3, 4])"
      ]
     },
     "execution_count": 307,
     "metadata": {},
     "output_type": "execute_result"
    }
   ],
   "source": [
    "le_weapon = LabelEncoder()\n",
    "df['Weapon_type'] = le_weapon.fit_transform(df['Weapon_type'])\n",
    "df[\"Weapon_type\"].unique()"
   ]
  },
  {
   "cell_type": "code",
   "execution_count": 308,
   "id": "efe8305b",
   "metadata": {},
   "outputs": [
    {
     "data": {
      "text/plain": [
       "array([8, 6, 4, 1, 2, 0, 3, 5, 7])"
      ]
     },
     "execution_count": 308,
     "metadata": {},
     "output_type": "execute_result"
    }
   ],
   "source": [
    "le_attack = LabelEncoder()\n",
    "df['AttackType'] = le_attack.fit_transform(df['AttackType'])\n",
    "df[\"AttackType\"].unique()"
   ]
  },
  {
   "cell_type": "code",
   "execution_count": 309,
   "id": "ec6aed90",
   "metadata": {},
   "outputs": [
    {
     "data": {
      "text/plain": [
       "array([ 8,  6,  4,  5,  0,  1, 12, 17, 20,  2, 11, 19, 13, 16, 18,  9, 14,\n",
       "        3,  7, 15, 10])"
      ]
     },
     "execution_count": 309,
     "metadata": {},
     "output_type": "execute_result"
    }
   ],
   "source": [
    "le_target = LabelEncoder()\n",
    "df['Target_type'] = le_target.fit_transform(df['Target_type'])\n",
    "df[\"Target_type\"].unique()"
   ]
  },
  {
   "cell_type": "code",
   "execution_count": 310,
   "id": "52de8ac2",
   "metadata": {},
   "outputs": [
    {
     "data": {
      "text/plain": [
       "1    16269\n",
       "0     1273\n",
       "Name: Success, dtype: int64"
      ]
     },
     "execution_count": 310,
     "metadata": {},
     "output_type": "execute_result"
    }
   ],
   "source": [
    "df.Success.value_counts()"
   ]
  },
  {
   "cell_type": "code",
   "execution_count": 311,
   "id": "06c49e72",
   "metadata": {},
   "outputs": [],
   "source": [
    "X = df.drop(\"Success\", axis=1)\n",
    "y = df[\"Success\"]"
   ]
  },
  {
   "cell_type": "code",
   "execution_count": 312,
   "id": "7b6f2c57",
   "metadata": {},
   "outputs": [
    {
     "data": {
      "text/html": [
       "<div>\n",
       "<style scoped>\n",
       "    .dataframe tbody tr th:only-of-type {\n",
       "        vertical-align: middle;\n",
       "    }\n",
       "\n",
       "    .dataframe tbody tr th {\n",
       "        vertical-align: top;\n",
       "    }\n",
       "\n",
       "    .dataframe thead th {\n",
       "        text-align: right;\n",
       "    }\n",
       "</style>\n",
       "<table border=\"1\" class=\"dataframe\">\n",
       "  <thead>\n",
       "    <tr style=\"text-align: right;\">\n",
       "      <th></th>\n",
       "      <th>Country</th>\n",
       "      <th>State</th>\n",
       "      <th>AttackType</th>\n",
       "      <th>Target_type</th>\n",
       "      <th>Group</th>\n",
       "      <th>Weapon_type</th>\n",
       "      <th>Suicide</th>\n",
       "    </tr>\n",
       "  </thead>\n",
       "  <tbody>\n",
       "    <tr>\n",
       "      <th>0</th>\n",
       "      <td>7</td>\n",
       "      <td>37</td>\n",
       "      <td>8</td>\n",
       "      <td>8</td>\n",
       "      <td>22</td>\n",
       "      <td>5</td>\n",
       "      <td>0</td>\n",
       "    </tr>\n",
       "    <tr>\n",
       "      <th>1</th>\n",
       "      <td>7</td>\n",
       "      <td>37</td>\n",
       "      <td>6</td>\n",
       "      <td>6</td>\n",
       "      <td>22</td>\n",
       "      <td>5</td>\n",
       "      <td>0</td>\n",
       "    </tr>\n",
       "    <tr>\n",
       "      <th>2</th>\n",
       "      <td>7</td>\n",
       "      <td>37</td>\n",
       "      <td>6</td>\n",
       "      <td>4</td>\n",
       "      <td>22</td>\n",
       "      <td>5</td>\n",
       "      <td>0</td>\n",
       "    </tr>\n",
       "    <tr>\n",
       "      <th>3</th>\n",
       "      <td>27</td>\n",
       "      <td>37</td>\n",
       "      <td>6</td>\n",
       "      <td>5</td>\n",
       "      <td>22</td>\n",
       "      <td>5</td>\n",
       "      <td>0</td>\n",
       "    </tr>\n",
       "    <tr>\n",
       "      <th>4</th>\n",
       "      <td>7</td>\n",
       "      <td>32</td>\n",
       "      <td>4</td>\n",
       "      <td>0</td>\n",
       "      <td>22</td>\n",
       "      <td>5</td>\n",
       "      <td>0</td>\n",
       "    </tr>\n",
       "  </tbody>\n",
       "</table>\n",
       "</div>"
      ],
      "text/plain": [
       "   Country  State  AttackType  Target_type  Group  Weapon_type  Suicide\n",
       "0        7     37           8            8     22            5        0\n",
       "1        7     37           6            6     22            5        0\n",
       "2        7     37           6            4     22            5        0\n",
       "3       27     37           6            5     22            5        0\n",
       "4        7     32           4            0     22            5        0"
      ]
     },
     "execution_count": 312,
     "metadata": {},
     "output_type": "execute_result"
    }
   ],
   "source": [
    "X.head()"
   ]
  },
  {
   "cell_type": "code",
   "execution_count": 313,
   "id": "c2e88598",
   "metadata": {},
   "outputs": [
    {
     "data": {
      "text/plain": [
       "array([1, 1, 1, ..., 1, 1, 1], dtype=int64)"
      ]
     },
     "execution_count": 313,
     "metadata": {},
     "output_type": "execute_result"
    }
   ],
   "source": [
    "y.values"
   ]
  },
  {
   "cell_type": "code",
   "execution_count": 314,
   "id": "005f88a6",
   "metadata": {},
   "outputs": [
    {
     "data": {
      "text/plain": [
       "1    16269\n",
       "0     1273\n",
       "Name: Success, dtype: int64"
      ]
     },
     "execution_count": 314,
     "metadata": {},
     "output_type": "execute_result"
    }
   ],
   "source": [
    "y.value_counts()"
   ]
  },
  {
   "cell_type": "code",
   "execution_count": 315,
   "id": "9eb92f7a",
   "metadata": {},
   "outputs": [],
   "source": [
    "X_train,X_test,y_train,y_test=train_test_split(X,y.values,train_size=0.8,stratify = y.values,random_state = 2)"
   ]
  },
  {
   "cell_type": "code",
   "execution_count": 316,
   "id": "491bf67b",
   "metadata": {},
   "outputs": [
    {
     "data": {
      "text/html": [
       "<style>#sk-container-id-21 {color: black;background-color: white;}#sk-container-id-21 pre{padding: 0;}#sk-container-id-21 div.sk-toggleable {background-color: white;}#sk-container-id-21 label.sk-toggleable__label {cursor: pointer;display: block;width: 100%;margin-bottom: 0;padding: 0.3em;box-sizing: border-box;text-align: center;}#sk-container-id-21 label.sk-toggleable__label-arrow:before {content: \"▸\";float: left;margin-right: 0.25em;color: #696969;}#sk-container-id-21 label.sk-toggleable__label-arrow:hover:before {color: black;}#sk-container-id-21 div.sk-estimator:hover label.sk-toggleable__label-arrow:before {color: black;}#sk-container-id-21 div.sk-toggleable__content {max-height: 0;max-width: 0;overflow: hidden;text-align: left;background-color: #f0f8ff;}#sk-container-id-21 div.sk-toggleable__content pre {margin: 0.2em;color: black;border-radius: 0.25em;background-color: #f0f8ff;}#sk-container-id-21 input.sk-toggleable__control:checked~div.sk-toggleable__content {max-height: 200px;max-width: 100%;overflow: auto;}#sk-container-id-21 input.sk-toggleable__control:checked~label.sk-toggleable__label-arrow:before {content: \"▾\";}#sk-container-id-21 div.sk-estimator input.sk-toggleable__control:checked~label.sk-toggleable__label {background-color: #d4ebff;}#sk-container-id-21 div.sk-label input.sk-toggleable__control:checked~label.sk-toggleable__label {background-color: #d4ebff;}#sk-container-id-21 input.sk-hidden--visually {border: 0;clip: rect(1px 1px 1px 1px);clip: rect(1px, 1px, 1px, 1px);height: 1px;margin: -1px;overflow: hidden;padding: 0;position: absolute;width: 1px;}#sk-container-id-21 div.sk-estimator {font-family: monospace;background-color: #f0f8ff;border: 1px dotted black;border-radius: 0.25em;box-sizing: border-box;margin-bottom: 0.5em;}#sk-container-id-21 div.sk-estimator:hover {background-color: #d4ebff;}#sk-container-id-21 div.sk-parallel-item::after {content: \"\";width: 100%;border-bottom: 1px solid gray;flex-grow: 1;}#sk-container-id-21 div.sk-label:hover label.sk-toggleable__label {background-color: #d4ebff;}#sk-container-id-21 div.sk-serial::before {content: \"\";position: absolute;border-left: 1px solid gray;box-sizing: border-box;top: 0;bottom: 0;left: 50%;z-index: 0;}#sk-container-id-21 div.sk-serial {display: flex;flex-direction: column;align-items: center;background-color: white;padding-right: 0.2em;padding-left: 0.2em;position: relative;}#sk-container-id-21 div.sk-item {position: relative;z-index: 1;}#sk-container-id-21 div.sk-parallel {display: flex;align-items: stretch;justify-content: center;background-color: white;position: relative;}#sk-container-id-21 div.sk-item::before, #sk-container-id-21 div.sk-parallel-item::before {content: \"\";position: absolute;border-left: 1px solid gray;box-sizing: border-box;top: 0;bottom: 0;left: 50%;z-index: -1;}#sk-container-id-21 div.sk-parallel-item {display: flex;flex-direction: column;z-index: 1;position: relative;background-color: white;}#sk-container-id-21 div.sk-parallel-item:first-child::after {align-self: flex-end;width: 50%;}#sk-container-id-21 div.sk-parallel-item:last-child::after {align-self: flex-start;width: 50%;}#sk-container-id-21 div.sk-parallel-item:only-child::after {width: 0;}#sk-container-id-21 div.sk-dashed-wrapped {border: 1px dashed gray;margin: 0 0.4em 0.5em 0.4em;box-sizing: border-box;padding-bottom: 0.4em;background-color: white;}#sk-container-id-21 div.sk-label label {font-family: monospace;font-weight: bold;display: inline-block;line-height: 1.2em;}#sk-container-id-21 div.sk-label-container {text-align: center;}#sk-container-id-21 div.sk-container {/* jupyter's `normalize.less` sets `[hidden] { display: none; }` but bootstrap.min.css set `[hidden] { display: none !important; }` so we also need the `!important` here to be able to override the default hidden behavior on the sphinx rendered scikit-learn.org. See: https://github.com/scikit-learn/scikit-learn/issues/21755 */display: inline-block !important;position: relative;}#sk-container-id-21 div.sk-text-repr-fallback {display: none;}</style><div id=\"sk-container-id-21\" class=\"sk-top-container\"><div class=\"sk-text-repr-fallback\"><pre>RandomForestClassifier()</pre><b>In a Jupyter environment, please rerun this cell to show the HTML representation or trust the notebook. <br />On GitHub, the HTML representation is unable to render, please try loading this page with nbviewer.org.</b></div><div class=\"sk-container\" hidden><div class=\"sk-item\"><div class=\"sk-estimator sk-toggleable\"><input class=\"sk-toggleable__control sk-hidden--visually\" id=\"sk-estimator-id-21\" type=\"checkbox\" checked><label for=\"sk-estimator-id-21\" class=\"sk-toggleable__label sk-toggleable__label-arrow\">RandomForestClassifier</label><div class=\"sk-toggleable__content\"><pre>RandomForestClassifier()</pre></div></div></div></div></div>"
      ],
      "text/plain": [
       "RandomForestClassifier()"
      ]
     },
     "execution_count": 316,
     "metadata": {},
     "output_type": "execute_result"
    }
   ],
   "source": [
    "classifier=RandomForestClassifier()\n",
    "classifier.fit(X_train,y_train)"
   ]
  },
  {
   "cell_type": "code",
   "execution_count": 317,
   "id": "d40a225a",
   "metadata": {},
   "outputs": [
    {
     "name": "stdout",
     "output_type": "stream",
     "text": [
      "[[  49  206]\n",
      " [  67 3187]]\n",
      "0.9222000569962953\n",
      "              precision    recall  f1-score   support\n",
      "\n",
      "           0       0.42      0.19      0.26       255\n",
      "           1       0.94      0.98      0.96      3254\n",
      "\n",
      "    accuracy                           0.92      3509\n",
      "   macro avg       0.68      0.59      0.61      3509\n",
      "weighted avg       0.90      0.92      0.91      3509\n",
      "\n"
     ]
    }
   ],
   "source": [
    "y_pred=classifier.predict(X_test)\n",
    "print(confusion_matrix(y_test,y_pred))\n",
    "print(accuracy_score(y_test,y_pred))\n",
    "print(classification_report(y_test,y_pred))"
   ]
  },
  {
   "cell_type": "code",
   "execution_count": 318,
   "id": "46f4c4b5",
   "metadata": {},
   "outputs": [
    {
     "data": {
      "text/html": [
       "<div>\n",
       "<style scoped>\n",
       "    .dataframe tbody tr th:only-of-type {\n",
       "        vertical-align: middle;\n",
       "    }\n",
       "\n",
       "    .dataframe tbody tr th {\n",
       "        vertical-align: top;\n",
       "    }\n",
       "\n",
       "    .dataframe thead th {\n",
       "        text-align: right;\n",
       "    }\n",
       "</style>\n",
       "<table border=\"1\" class=\"dataframe\">\n",
       "  <thead>\n",
       "    <tr style=\"text-align: right;\">\n",
       "      <th></th>\n",
       "      <th>Country</th>\n",
       "      <th>State</th>\n",
       "      <th>AttackType</th>\n",
       "      <th>Target_type</th>\n",
       "      <th>Group</th>\n",
       "      <th>Weapon_type</th>\n",
       "      <th>Suicide</th>\n",
       "    </tr>\n",
       "  </thead>\n",
       "  <tbody>\n",
       "    <tr>\n",
       "      <th>0</th>\n",
       "      <td>7</td>\n",
       "      <td>37</td>\n",
       "      <td>8</td>\n",
       "      <td>8</td>\n",
       "      <td>22</td>\n",
       "      <td>5</td>\n",
       "      <td>0</td>\n",
       "    </tr>\n",
       "    <tr>\n",
       "      <th>1</th>\n",
       "      <td>7</td>\n",
       "      <td>37</td>\n",
       "      <td>6</td>\n",
       "      <td>6</td>\n",
       "      <td>22</td>\n",
       "      <td>5</td>\n",
       "      <td>0</td>\n",
       "    </tr>\n",
       "    <tr>\n",
       "      <th>2</th>\n",
       "      <td>7</td>\n",
       "      <td>37</td>\n",
       "      <td>6</td>\n",
       "      <td>4</td>\n",
       "      <td>22</td>\n",
       "      <td>5</td>\n",
       "      <td>0</td>\n",
       "    </tr>\n",
       "    <tr>\n",
       "      <th>3</th>\n",
       "      <td>27</td>\n",
       "      <td>37</td>\n",
       "      <td>6</td>\n",
       "      <td>5</td>\n",
       "      <td>22</td>\n",
       "      <td>5</td>\n",
       "      <td>0</td>\n",
       "    </tr>\n",
       "    <tr>\n",
       "      <th>4</th>\n",
       "      <td>7</td>\n",
       "      <td>32</td>\n",
       "      <td>4</td>\n",
       "      <td>0</td>\n",
       "      <td>22</td>\n",
       "      <td>5</td>\n",
       "      <td>0</td>\n",
       "    </tr>\n",
       "    <tr>\n",
       "      <th>...</th>\n",
       "      <td>...</td>\n",
       "      <td>...</td>\n",
       "      <td>...</td>\n",
       "      <td>...</td>\n",
       "      <td>...</td>\n",
       "      <td>...</td>\n",
       "      <td>...</td>\n",
       "    </tr>\n",
       "    <tr>\n",
       "      <th>17545</th>\n",
       "      <td>9</td>\n",
       "      <td>32</td>\n",
       "      <td>3</td>\n",
       "      <td>1</td>\n",
       "      <td>2</td>\n",
       "      <td>1</td>\n",
       "      <td>0</td>\n",
       "    </tr>\n",
       "    <tr>\n",
       "      <th>17546</th>\n",
       "      <td>14</td>\n",
       "      <td>7</td>\n",
       "      <td>3</td>\n",
       "      <td>12</td>\n",
       "      <td>6</td>\n",
       "      <td>5</td>\n",
       "      <td>0</td>\n",
       "    </tr>\n",
       "    <tr>\n",
       "      <th>17547</th>\n",
       "      <td>20</td>\n",
       "      <td>2</td>\n",
       "      <td>2</td>\n",
       "      <td>8</td>\n",
       "      <td>2</td>\n",
       "      <td>0</td>\n",
       "      <td>0</td>\n",
       "    </tr>\n",
       "    <tr>\n",
       "      <th>17548</th>\n",
       "      <td>20</td>\n",
       "      <td>1</td>\n",
       "      <td>2</td>\n",
       "      <td>8</td>\n",
       "      <td>2</td>\n",
       "      <td>0</td>\n",
       "      <td>0</td>\n",
       "    </tr>\n",
       "    <tr>\n",
       "      <th>17549</th>\n",
       "      <td>20</td>\n",
       "      <td>25</td>\n",
       "      <td>0</td>\n",
       "      <td>8</td>\n",
       "      <td>2</td>\n",
       "      <td>1</td>\n",
       "      <td>0</td>\n",
       "    </tr>\n",
       "  </tbody>\n",
       "</table>\n",
       "<p>17542 rows × 7 columns</p>\n",
       "</div>"
      ],
      "text/plain": [
       "       Country  State  AttackType  Target_type  Group  Weapon_type  Suicide\n",
       "0            7     37           8            8     22            5        0\n",
       "1            7     37           6            6     22            5        0\n",
       "2            7     37           6            4     22            5        0\n",
       "3           27     37           6            5     22            5        0\n",
       "4            7     32           4            0     22            5        0\n",
       "...        ...    ...         ...          ...    ...          ...      ...\n",
       "17545        9     32           3            1      2            1        0\n",
       "17546       14      7           3           12      6            5        0\n",
       "17547       20      2           2            8      2            0        0\n",
       "17548       20      1           2            8      2            0        0\n",
       "17549       20     25           0            8      2            1        0\n",
       "\n",
       "[17542 rows x 7 columns]"
      ]
     },
     "execution_count": 318,
     "metadata": {},
     "output_type": "execute_result"
    }
   ],
   "source": [
    "X"
   ]
  },
  {
   "cell_type": "code",
   "execution_count": 319,
   "id": "4df66c1a",
   "metadata": {},
   "outputs": [
    {
     "data": {
      "text/plain": [
       "array([['Ethiopia', 'Unknown', 'Hostage Taking (Kidnapping)',\n",
       "        'Journalists & Media', 'Boko Haram', 'Unknown', '0']],\n",
       "      dtype='<U27')"
      ]
     },
     "execution_count": 319,
     "metadata": {},
     "output_type": "execute_result"
    }
   ],
   "source": [
    "X = np.array([[\"Ethiopia\", 'Unknown','Hostage Taking (Kidnapping)','Journalists & Media','Boko Haram','Unknown',0 ]])\n",
    "X"
   ]
  },
  {
   "cell_type": "code",
   "execution_count": 320,
   "id": "e7f70a02",
   "metadata": {},
   "outputs": [
    {
     "data": {
      "text/plain": [
       "array([[ 7., 37.,  6.,  6.,  6.,  5.,  0.]])"
      ]
     },
     "execution_count": 320,
     "metadata": {},
     "output_type": "execute_result"
    }
   ],
   "source": [
    "X[:, 0] = le_country.transform(X[:,0])\n",
    "X[:, 1] = le_state.transform(X[:,1])\n",
    "X[:, 2] = le_attack.transform(X[:,2])\n",
    "X[:, 3] = le_target.transform(X[:,3])\n",
    "X[:, 4] = le_group.transform(X[:,4])\n",
    "X[:, 5] = le_weapon.transform(X[:,5])\n",
    "X = X.astype(float)\n",
    "X"
   ]
  },
  {
   "cell_type": "code",
   "execution_count": 321,
   "id": "5bb4e04c",
   "metadata": {},
   "outputs": [
    {
     "name": "stdout",
     "output_type": "stream",
     "text": [
      "[1]\n",
      "The attack is successful\n"
     ]
    }
   ],
   "source": [
    "prediction = classifier.predict(X)\n",
    "print(prediction)\n",
    "\n",
    "if (prediction[0] == 0):\n",
    "    print('The attack is not successful')\n",
    "else:\n",
    "    print('The attack is successful')"
   ]
  },
  {
   "cell_type": "code",
   "execution_count": 322,
   "id": "745475f6",
   "metadata": {},
   "outputs": [],
   "source": [
    "import pickle"
   ]
  },
  {
   "cell_type": "code",
   "execution_count": 323,
   "id": "6629a657",
   "metadata": {},
   "outputs": [],
   "source": [
    "data = {\"model\":classifier , \"le_country\": le_country, \"le_state\": le_state,\"le_attack\":le_attack,\"le_target\":le_target,\"le_group\":le_group,\"le_weapon\":le_weapon}\n",
    "with open('AA_LLC.pkl', 'wb') as file:\n",
    "    pickle.dump(data, file)"
   ]
  },
  {
   "cell_type": "code",
   "execution_count": 324,
   "id": "69c0d4ce",
   "metadata": {},
   "outputs": [],
   "source": [
    "with open('AA_LLC.pkl', 'rb') as file:\n",
    "    data = pickle.load(file)\n",
    "\n",
    "classifier_loaded = data[\"model\"]\n",
    "le_country = data[\"le_country\"]\n",
    "le_state = data[\"le_state\"]\n",
    "le_attack = data[\"le_attack\"]\n",
    "le_target = data[\"le_target\"]\n",
    "le_group = data[\"le_group\"]\n",
    "le_weapon = data[\"le_weapon\"]"
   ]
  },
  {
   "cell_type": "code",
   "execution_count": 325,
   "id": "d6c46468",
   "metadata": {},
   "outputs": [
    {
     "name": "stdout",
     "output_type": "stream",
     "text": [
      "[1]\n",
      "The attack is successful\n"
     ]
    }
   ],
   "source": [
    "prediction = classifier_loaded.predict(X)\n",
    "print(prediction)\n",
    "\n",
    "if (prediction[0] == 0):\n",
    "    print('The attack is not successful')\n",
    "else:\n",
    "    print('The attack is successful')"
   ]
  }
 ],
 "metadata": {
  "kernelspec": {
   "display_name": "Python 3 (ipykernel)",
   "language": "python",
   "name": "python3"
  },
  "language_info": {
   "codemirror_mode": {
    "name": "ipython",
    "version": 3
   },
   "file_extension": ".py",
   "mimetype": "text/x-python",
   "name": "python",
   "nbconvert_exporter": "python",
   "pygments_lexer": "ipython3",
   "version": "3.10.4"
  }
 },
 "nbformat": 4,
 "nbformat_minor": 5
}
